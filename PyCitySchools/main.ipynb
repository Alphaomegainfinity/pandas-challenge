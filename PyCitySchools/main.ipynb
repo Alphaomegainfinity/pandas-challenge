{
 "cells": [
  {
   "cell_type": "code",
   "execution_count": 1,
   "metadata": {},
   "outputs": [],
   "source": [
    "#Dependencies, import pandas module/library\n",
    "import pandas as pd"
   ]
  },
  {
   "cell_type": "code",
   "execution_count": 2,
   "metadata": {},
   "outputs": [],
   "source": [
    "#save path to dataset in a variable\n",
    "school_data_to_load = \"Resources/schools_complete.csv\"\n",
    "student_data_to_load = \"Resources/students_complete.csv\""
   ]
  },
  {
   "cell_type": "code",
   "execution_count": 3,
   "metadata": {},
   "outputs": [],
   "source": [
    "#import files School data and student data and read these files with encoding to make sure that the files can be read properly\n",
    "school_data = pd.read_csv(school_data_to_load, encoding = \"ANSI\")\n",
    "student_data = pd.read_csv(student_data_to_load, encoding= \"ANSI\")"
   ]
  },
  {
   "cell_type": "code",
   "execution_count": 4,
   "metadata": {},
   "outputs": [
    {
     "data": {
      "text/html": [
       "<div>\n",
       "<style scoped>\n",
       "    .dataframe tbody tr th:only-of-type {\n",
       "        vertical-align: middle;\n",
       "    }\n",
       "\n",
       "    .dataframe tbody tr th {\n",
       "        vertical-align: top;\n",
       "    }\n",
       "\n",
       "    .dataframe thead th {\n",
       "        text-align: right;\n",
       "    }\n",
       "</style>\n",
       "<table border=\"1\" class=\"dataframe\">\n",
       "  <thead>\n",
       "    <tr style=\"text-align: right;\">\n",
       "      <th></th>\n",
       "      <th>Student ID</th>\n",
       "      <th>student_name</th>\n",
       "      <th>gender</th>\n",
       "      <th>year</th>\n",
       "      <th>school_name</th>\n",
       "      <th>reading_score</th>\n",
       "      <th>maths_score</th>\n",
       "      <th>School ID</th>\n",
       "      <th>type</th>\n",
       "      <th>size</th>\n",
       "      <th>budget</th>\n",
       "    </tr>\n",
       "  </thead>\n",
       "  <tbody>\n",
       "    <tr>\n",
       "      <th>0</th>\n",
       "      <td>0</td>\n",
       "      <td>Paul Bradley</td>\n",
       "      <td>M</td>\n",
       "      <td>9</td>\n",
       "      <td>Huang High School</td>\n",
       "      <td>96</td>\n",
       "      <td>94</td>\n",
       "      <td>0</td>\n",
       "      <td>Government</td>\n",
       "      <td>2917</td>\n",
       "      <td>1910635</td>\n",
       "    </tr>\n",
       "    <tr>\n",
       "      <th>1</th>\n",
       "      <td>1</td>\n",
       "      <td>Victor Smith</td>\n",
       "      <td>M</td>\n",
       "      <td>12</td>\n",
       "      <td>Huang High School</td>\n",
       "      <td>90</td>\n",
       "      <td>43</td>\n",
       "      <td>0</td>\n",
       "      <td>Government</td>\n",
       "      <td>2917</td>\n",
       "      <td>1910635</td>\n",
       "    </tr>\n",
       "    <tr>\n",
       "      <th>2</th>\n",
       "      <td>2</td>\n",
       "      <td>Kevin Rodriguez</td>\n",
       "      <td>M</td>\n",
       "      <td>12</td>\n",
       "      <td>Huang High School</td>\n",
       "      <td>41</td>\n",
       "      <td>76</td>\n",
       "      <td>0</td>\n",
       "      <td>Government</td>\n",
       "      <td>2917</td>\n",
       "      <td>1910635</td>\n",
       "    </tr>\n",
       "    <tr>\n",
       "      <th>3</th>\n",
       "      <td>3</td>\n",
       "      <td>Richard Scott</td>\n",
       "      <td>M</td>\n",
       "      <td>12</td>\n",
       "      <td>Huang High School</td>\n",
       "      <td>89</td>\n",
       "      <td>86</td>\n",
       "      <td>0</td>\n",
       "      <td>Government</td>\n",
       "      <td>2917</td>\n",
       "      <td>1910635</td>\n",
       "    </tr>\n",
       "    <tr>\n",
       "      <th>4</th>\n",
       "      <td>4</td>\n",
       "      <td>Bonnie Ray</td>\n",
       "      <td>F</td>\n",
       "      <td>9</td>\n",
       "      <td>Huang High School</td>\n",
       "      <td>87</td>\n",
       "      <td>69</td>\n",
       "      <td>0</td>\n",
       "      <td>Government</td>\n",
       "      <td>2917</td>\n",
       "      <td>1910635</td>\n",
       "    </tr>\n",
       "  </tbody>\n",
       "</table>\n",
       "</div>"
      ],
      "text/plain": [
       "   Student ID     student_name gender  year        school_name  reading_score  \\\n",
       "0           0     Paul Bradley      M     9  Huang High School             96   \n",
       "1           1     Victor Smith      M    12  Huang High School             90   \n",
       "2           2  Kevin Rodriguez      M    12  Huang High School             41   \n",
       "3           3    Richard Scott      M    12  Huang High School             89   \n",
       "4           4       Bonnie Ray      F     9  Huang High School             87   \n",
       "\n",
       "   maths_score  School ID        type  size   budget  \n",
       "0           94          0  Government  2917  1910635  \n",
       "1           43          0  Government  2917  1910635  \n",
       "2           76          0  Government  2917  1910635  \n",
       "3           86          0  Government  2917  1910635  \n",
       "4           69          0  Government  2917  1910635  "
      ]
     },
     "execution_count": 4,
     "metadata": {},
     "output_type": "execute_result"
    }
   ],
   "source": [
    "# Merging these 2 files with left join.\n",
    "school_data_complete_df = pd.merge(student_data, school_data, how=\"left\", on=[\"school_name\", \"school_name\"])\n",
    "school_data_complete_df.head()"
   ]
  },
  {
   "cell_type": "markdown",
   "metadata": {},
   "source": [
    "LOCAL GOVERNMENT AREA SUMMARY"
   ]
  },
  {
   "cell_type": "code",
   "execution_count": 5,
   "metadata": {},
   "outputs": [],
   "source": [
    "#using a unique function to calculate the total number of schools within the lga\n",
    "total_school_lga = len(school_data_complete_df[\"school_name\"].unique())\n"
   ]
  },
  {
   "cell_type": "code",
   "execution_count": 6,
   "metadata": {},
   "outputs": [],
   "source": [
    "#Counting the total number of students within the LGA by using the count function\n",
    "total_students_lga = school_data_complete_df[\"student_name\"].count()\n"
   ]
  },
  {
   "cell_type": "code",
   "execution_count": 7,
   "metadata": {},
   "outputs": [],
   "source": [
    "#counting the total budget of all schools within the LGA by using the unique function first to avoid duplicate, then using the sum function\n",
    "total_budget_lga = school_data_complete_df[\"budget\"].unique().sum()\n",
    "total_budget_lga1 = \"${:>,.0f}\".format(abs((total_budget_lga))) +\".00\"\n"
   ]
  },
  {
   "cell_type": "code",
   "execution_count": 8,
   "metadata": {},
   "outputs": [],
   "source": [
    "# Calculating the average maths score and reading score\n",
    "average_math_score = round(school_data_complete_df[\"maths_score\"].mean(),6)\n"
   ]
  },
  {
   "cell_type": "code",
   "execution_count": 9,
   "metadata": {},
   "outputs": [],
   "source": [
    "average_reading_score = round(school_data_complete_df[\"reading_score\"].mean(),6)\n"
   ]
  },
  {
   "cell_type": "code",
   "execution_count": 10,
   "metadata": {},
   "outputs": [],
   "source": [
    "#Calculate the %passing math: 1st: using loc function to filter out all students passing math, then count the total number of passing math students\n",
    "passing_math = school_data_complete_df.loc[school_data_complete_df[\"maths_score\"]>=50, :]\n",
    "\n",
    "passing_math_percentage = round(((passing_math[\"maths_score\"].count())/(total_students_lga))*100,6)\n"
   ]
  },
  {
   "cell_type": "code",
   "execution_count": 11,
   "metadata": {},
   "outputs": [],
   "source": [
    "#Calculate the %passing reading: 1st: using loc function to filter out all students passing reading, then count the total number of passing reading students\n",
    "passing_reading = school_data_complete_df.loc[school_data_complete_df[\"reading_score\"]>=50, :]\n",
    "\n",
    "passing_reading_percentage = round(((passing_reading[\"reading_score\"].count())/(total_students_lga))*100,6)\n"
   ]
  },
  {
   "cell_type": "code",
   "execution_count": 12,
   "metadata": {},
   "outputs": [],
   "source": [
    "#Calculate the %passing overall: 1st: using loc function to filter out all students passing math & reading, then count the total number of passing math students\n",
    "passing_overall = school_data_complete_df.loc[(school_data_complete_df[\"maths_score\"]>=50) & (school_data_complete_df[\"reading_score\"]>=50), :]\n",
    "\n",
    "passing_overall_percentage = round(((passing_overall[\"maths_score\"].count())/(total_students_lga))*100,6)\n"
   ]
  },
  {
   "cell_type": "code",
   "execution_count": 13,
   "metadata": {},
   "outputs": [
    {
     "data": {
      "text/html": [
       "<div>\n",
       "<style scoped>\n",
       "    .dataframe tbody tr th:only-of-type {\n",
       "        vertical-align: middle;\n",
       "    }\n",
       "\n",
       "    .dataframe tbody tr th {\n",
       "        vertical-align: top;\n",
       "    }\n",
       "\n",
       "    .dataframe thead th {\n",
       "        text-align: right;\n",
       "    }\n",
       "</style>\n",
       "<table border=\"1\" class=\"dataframe\">\n",
       "  <thead>\n",
       "    <tr style=\"text-align: right;\">\n",
       "      <th></th>\n",
       "      <th>Total Schools</th>\n",
       "      <th>Total Students</th>\n",
       "      <th>Total Budget</th>\n",
       "      <th>Average Maths Score</th>\n",
       "      <th>Average Reading Score</th>\n",
       "      <th>% Passing Maths</th>\n",
       "      <th>% Passing Reading</th>\n",
       "      <th>% Overall Passing</th>\n",
       "    </tr>\n",
       "  </thead>\n",
       "  <tbody>\n",
       "    <tr>\n",
       "      <th>0</th>\n",
       "      <td>15</td>\n",
       "      <td>39170</td>\n",
       "      <td>$24,649,428.00</td>\n",
       "      <td>70.338192</td>\n",
       "      <td>69.980138</td>\n",
       "      <td>86.078632</td>\n",
       "      <td>84.426857</td>\n",
       "      <td>72.808272</td>\n",
       "    </tr>\n",
       "  </tbody>\n",
       "</table>\n",
       "</div>"
      ],
      "text/plain": [
       "   Total Schools  Total Students    Total Budget  Average Maths Score  \\\n",
       "0             15           39170  $24,649,428.00            70.338192   \n",
       "\n",
       "   Average Reading Score  % Passing Maths  % Passing Reading  \\\n",
       "0              69.980138        86.078632          84.426857   \n",
       "\n",
       "   % Overall Passing  \n",
       "0          72.808272  "
      ]
     },
     "execution_count": 13,
     "metadata": {},
     "output_type": "execute_result"
    }
   ],
   "source": [
    "#Print out all the data to the table.\n",
    "\n",
    "data = [{'Total Schools': total_school_lga, \n",
    "        'Total Students': total_students_lga, \n",
    "        'Total Budget': total_budget_lga1, \n",
    "        'Average Maths Score': average_math_score, \n",
    "        'Average Reading Score': average_reading_score, \n",
    "        '% Passing Maths': passing_math_percentage, \n",
    "        '% Passing Reading': passing_reading_percentage, \n",
    "        '% Overall Passing': passing_overall_percentage}]\n",
    "df = pd.DataFrame(data) \n",
    "df"
   ]
  },
  {
   "cell_type": "code",
   "execution_count": 14,
   "metadata": {},
   "outputs": [],
   "source": [
    "#Count the number of students in each school\n",
    "\n",
    "school_student_summary = school_data_complete_df[\"school_name\"].value_counts()\n",
    "school_student_summary_df = pd.DataFrame(school_student_summary)\n",
    "students_renamed_df = school_student_summary_df.rename(columns ={\"school_name\":\"Total Students\"})\n"
   ]
  },
  {
   "cell_type": "code",
   "execution_count": 15,
   "metadata": {},
   "outputs": [],
   "source": [
    "# Using groupby \"school name\" to sort out the budget and type for each school\n",
    "school_summary_budget_df = school_data_complete_df.groupby([\"school_name\"])\n",
    "budget_sort = school_summary_budget_df[[\"type\", \"budget\"]].max()\n",
    "budget_sort_df = budget_sort.rename(columns = {\"type\":\"School Type\", \"budget\": \"Total School Budget\"})\n",
    "\n",
    "budget_sort_df.index.name = None\n"
   ]
  },
  {
   "cell_type": "code",
   "execution_count": 16,
   "metadata": {},
   "outputs": [
    {
     "ename": "KeyError",
     "evalue": "'per_school_capita'",
     "output_type": "error",
     "traceback": [
      "\u001b[1;31m---------------------------------------------------------------------------\u001b[0m",
      "\u001b[1;31mTypeError\u001b[0m                                 Traceback (most recent call last)",
      "\u001b[1;32mc:\\Users\\John Paul\\anaconda3\\envs\\PythonData\\lib\\site-packages\\pandas\\core\\indexes\\base.py\u001b[0m in \u001b[0;36mget_value\u001b[1;34m(self, series, key)\u001b[0m\n\u001b[0;32m   4410\u001b[0m             \u001b[1;32mtry\u001b[0m\u001b[1;33m:\u001b[0m\u001b[1;33m\u001b[0m\u001b[1;33m\u001b[0m\u001b[0m\n\u001b[1;32m-> 4411\u001b[1;33m                 \u001b[1;32mreturn\u001b[0m \u001b[0mlibindex\u001b[0m\u001b[1;33m.\u001b[0m\u001b[0mget_value_at\u001b[0m\u001b[1;33m(\u001b[0m\u001b[0ms\u001b[0m\u001b[1;33m,\u001b[0m \u001b[0mkey\u001b[0m\u001b[1;33m)\u001b[0m\u001b[1;33m\u001b[0m\u001b[1;33m\u001b[0m\u001b[0m\n\u001b[0m\u001b[0;32m   4412\u001b[0m             \u001b[1;32mexcept\u001b[0m \u001b[0mIndexError\u001b[0m\u001b[1;33m:\u001b[0m\u001b[1;33m\u001b[0m\u001b[1;33m\u001b[0m\u001b[0m\n",
      "\u001b[1;32mpandas\\_libs\\index.pyx\u001b[0m in \u001b[0;36mpandas._libs.index.get_value_at\u001b[1;34m()\u001b[0m\n",
      "\u001b[1;32mpandas\\_libs\\index.pyx\u001b[0m in \u001b[0;36mpandas._libs.index.get_value_at\u001b[1;34m()\u001b[0m\n",
      "\u001b[1;32mpandas\\_libs\\util.pxd\u001b[0m in \u001b[0;36mpandas._libs.util.get_value_at\u001b[1;34m()\u001b[0m\n",
      "\u001b[1;32mpandas\\_libs\\util.pxd\u001b[0m in \u001b[0;36mpandas._libs.util.validate_indexer\u001b[1;34m()\u001b[0m\n",
      "\u001b[1;31mTypeError\u001b[0m: 'str' object cannot be interpreted as an integer",
      "\nDuring handling of the above exception, another exception occurred:\n",
      "\u001b[1;31mKeyError\u001b[0m                                  Traceback (most recent call last)",
      "\u001b[1;32m~\\AppData\\Local\\Temp\\ipykernel_11840\\1706055902.py\u001b[0m in \u001b[0;36m<module>\u001b[1;34m\u001b[0m\n\u001b[0;32m      1\u001b[0m \u001b[0mlga_student_budget_df\u001b[0m \u001b[1;33m=\u001b[0m \u001b[0mbudget_sort_df\u001b[0m\u001b[1;33m[\u001b[0m\u001b[1;34m\"Total School Budget\"\u001b[0m\u001b[1;33m]\u001b[0m\u001b[1;33m/\u001b[0m\u001b[0mstudents_renamed_df\u001b[0m\u001b[1;33m[\u001b[0m\u001b[1;34m\"Total Students\"\u001b[0m\u001b[1;33m]\u001b[0m\u001b[1;33m\u001b[0m\u001b[1;33m\u001b[0m\u001b[0m\n\u001b[1;32m----> 2\u001b[1;33m \u001b[0mlga_student_budget_df\u001b[0m\u001b[1;33m=\u001b[0m \u001b[0mpd\u001b[0m\u001b[1;33m.\u001b[0m\u001b[0mDataFrame\u001b[0m\u001b[1;33m(\u001b[0m\u001b[0mlga_student_budget_df\u001b[0m \u001b[1;33m[\u001b[0m\u001b[1;34m\"per_school_capita\"\u001b[0m\u001b[1;33m]\u001b[0m\u001b[1;33m)\u001b[0m\u001b[1;33m\u001b[0m\u001b[1;33m\u001b[0m\u001b[0m\n\u001b[0m\u001b[0;32m      3\u001b[0m \u001b[1;33m\u001b[0m\u001b[0m\n\u001b[0;32m      4\u001b[0m \u001b[0mper_student_budget_df\u001b[0m \u001b[1;33m=\u001b[0m \u001b[0mlga_student_budget_df\u001b[0m\u001b[1;33m.\u001b[0m\u001b[0mrename\u001b[0m\u001b[1;33m(\u001b[0m\u001b[0mcolumns\u001b[0m \u001b[1;33m=\u001b[0m\u001b[1;33m{\u001b[0m\u001b[1;34m\"per_school_capita\"\u001b[0m\u001b[1;33m:\u001b[0m\u001b[1;34m\"Per Student Budget\"\u001b[0m\u001b[1;33m}\u001b[0m\u001b[1;33m)\u001b[0m\u001b[1;33m\u001b[0m\u001b[1;33m\u001b[0m\u001b[0m\n\u001b[0;32m      5\u001b[0m \u001b[1;33m\u001b[0m\u001b[0m\n",
      "\u001b[1;32mc:\\Users\\John Paul\\anaconda3\\envs\\PythonData\\lib\\site-packages\\pandas\\core\\series.py\u001b[0m in \u001b[0;36m__getitem__\u001b[1;34m(self, key)\u001b[0m\n\u001b[0;32m    869\u001b[0m         \u001b[0mkey\u001b[0m \u001b[1;33m=\u001b[0m \u001b[0mcom\u001b[0m\u001b[1;33m.\u001b[0m\u001b[0mapply_if_callable\u001b[0m\u001b[1;33m(\u001b[0m\u001b[0mkey\u001b[0m\u001b[1;33m,\u001b[0m \u001b[0mself\u001b[0m\u001b[1;33m)\u001b[0m\u001b[1;33m\u001b[0m\u001b[1;33m\u001b[0m\u001b[0m\n\u001b[0;32m    870\u001b[0m         \u001b[1;32mtry\u001b[0m\u001b[1;33m:\u001b[0m\u001b[1;33m\u001b[0m\u001b[1;33m\u001b[0m\u001b[0m\n\u001b[1;32m--> 871\u001b[1;33m             \u001b[0mresult\u001b[0m \u001b[1;33m=\u001b[0m \u001b[0mself\u001b[0m\u001b[1;33m.\u001b[0m\u001b[0mindex\u001b[0m\u001b[1;33m.\u001b[0m\u001b[0mget_value\u001b[0m\u001b[1;33m(\u001b[0m\u001b[0mself\u001b[0m\u001b[1;33m,\u001b[0m \u001b[0mkey\u001b[0m\u001b[1;33m)\u001b[0m\u001b[1;33m\u001b[0m\u001b[1;33m\u001b[0m\u001b[0m\n\u001b[0m\u001b[0;32m    872\u001b[0m \u001b[1;33m\u001b[0m\u001b[0m\n\u001b[0;32m    873\u001b[0m             \u001b[1;32mif\u001b[0m \u001b[1;32mnot\u001b[0m \u001b[0mis_scalar\u001b[0m\u001b[1;33m(\u001b[0m\u001b[0mresult\u001b[0m\u001b[1;33m)\u001b[0m\u001b[1;33m:\u001b[0m\u001b[1;33m\u001b[0m\u001b[1;33m\u001b[0m\u001b[0m\n",
      "\u001b[1;32mc:\\Users\\John Paul\\anaconda3\\envs\\PythonData\\lib\\site-packages\\pandas\\core\\indexes\\base.py\u001b[0m in \u001b[0;36mget_value\u001b[1;34m(self, series, key)\u001b[0m\n\u001b[0;32m   4417\u001b[0m                     \u001b[1;32mraise\u001b[0m \u001b[0mInvalidIndexError\u001b[0m\u001b[1;33m(\u001b[0m\u001b[0mkey\u001b[0m\u001b[1;33m)\u001b[0m\u001b[1;33m\u001b[0m\u001b[1;33m\u001b[0m\u001b[0m\n\u001b[0;32m   4418\u001b[0m                 \u001b[1;32melse\u001b[0m\u001b[1;33m:\u001b[0m\u001b[1;33m\u001b[0m\u001b[1;33m\u001b[0m\u001b[0m\n\u001b[1;32m-> 4419\u001b[1;33m                     \u001b[1;32mraise\u001b[0m \u001b[0me1\u001b[0m\u001b[1;33m\u001b[0m\u001b[1;33m\u001b[0m\u001b[0m\n\u001b[0m\u001b[0;32m   4420\u001b[0m             \u001b[1;32mexcept\u001b[0m \u001b[0mException\u001b[0m\u001b[1;33m:\u001b[0m\u001b[1;33m\u001b[0m\u001b[1;33m\u001b[0m\u001b[0m\n\u001b[0;32m   4421\u001b[0m                 \u001b[1;32mraise\u001b[0m \u001b[0me1\u001b[0m\u001b[1;33m\u001b[0m\u001b[1;33m\u001b[0m\u001b[0m\n",
      "\u001b[1;32mc:\\Users\\John Paul\\anaconda3\\envs\\PythonData\\lib\\site-packages\\pandas\\core\\indexes\\base.py\u001b[0m in \u001b[0;36mget_value\u001b[1;34m(self, series, key)\u001b[0m\n\u001b[0;32m   4403\u001b[0m         \u001b[0mk\u001b[0m \u001b[1;33m=\u001b[0m \u001b[0mself\u001b[0m\u001b[1;33m.\u001b[0m\u001b[0m_convert_scalar_indexer\u001b[0m\u001b[1;33m(\u001b[0m\u001b[0mk\u001b[0m\u001b[1;33m,\u001b[0m \u001b[0mkind\u001b[0m\u001b[1;33m=\u001b[0m\u001b[1;34m\"getitem\"\u001b[0m\u001b[1;33m)\u001b[0m\u001b[1;33m\u001b[0m\u001b[1;33m\u001b[0m\u001b[0m\n\u001b[0;32m   4404\u001b[0m         \u001b[1;32mtry\u001b[0m\u001b[1;33m:\u001b[0m\u001b[1;33m\u001b[0m\u001b[1;33m\u001b[0m\u001b[0m\n\u001b[1;32m-> 4405\u001b[1;33m             \u001b[1;32mreturn\u001b[0m \u001b[0mself\u001b[0m\u001b[1;33m.\u001b[0m\u001b[0m_engine\u001b[0m\u001b[1;33m.\u001b[0m\u001b[0mget_value\u001b[0m\u001b[1;33m(\u001b[0m\u001b[0ms\u001b[0m\u001b[1;33m,\u001b[0m \u001b[0mk\u001b[0m\u001b[1;33m,\u001b[0m \u001b[0mtz\u001b[0m\u001b[1;33m=\u001b[0m\u001b[0mgetattr\u001b[0m\u001b[1;33m(\u001b[0m\u001b[0mseries\u001b[0m\u001b[1;33m.\u001b[0m\u001b[0mdtype\u001b[0m\u001b[1;33m,\u001b[0m \u001b[1;34m\"tz\"\u001b[0m\u001b[1;33m,\u001b[0m \u001b[1;32mNone\u001b[0m\u001b[1;33m)\u001b[0m\u001b[1;33m)\u001b[0m\u001b[1;33m\u001b[0m\u001b[1;33m\u001b[0m\u001b[0m\n\u001b[0m\u001b[0;32m   4406\u001b[0m         \u001b[1;32mexcept\u001b[0m \u001b[0mKeyError\u001b[0m \u001b[1;32mas\u001b[0m \u001b[0me1\u001b[0m\u001b[1;33m:\u001b[0m\u001b[1;33m\u001b[0m\u001b[1;33m\u001b[0m\u001b[0m\n\u001b[0;32m   4407\u001b[0m             \u001b[1;32mif\u001b[0m \u001b[0mlen\u001b[0m\u001b[1;33m(\u001b[0m\u001b[0mself\u001b[0m\u001b[1;33m)\u001b[0m \u001b[1;33m>\u001b[0m \u001b[1;36m0\u001b[0m \u001b[1;32mand\u001b[0m \u001b[1;33m(\u001b[0m\u001b[0mself\u001b[0m\u001b[1;33m.\u001b[0m\u001b[0mholds_integer\u001b[0m\u001b[1;33m(\u001b[0m\u001b[1;33m)\u001b[0m \u001b[1;32mor\u001b[0m \u001b[0mself\u001b[0m\u001b[1;33m.\u001b[0m\u001b[0mis_boolean\u001b[0m\u001b[1;33m(\u001b[0m\u001b[1;33m)\u001b[0m\u001b[1;33m)\u001b[0m\u001b[1;33m:\u001b[0m\u001b[1;33m\u001b[0m\u001b[1;33m\u001b[0m\u001b[0m\n",
      "\u001b[1;32mpandas\\_libs\\index.pyx\u001b[0m in \u001b[0;36mpandas._libs.index.IndexEngine.get_value\u001b[1;34m()\u001b[0m\n",
      "\u001b[1;32mpandas\\_libs\\index.pyx\u001b[0m in \u001b[0;36mpandas._libs.index.IndexEngine.get_value\u001b[1;34m()\u001b[0m\n",
      "\u001b[1;32mpandas\\_libs\\index.pyx\u001b[0m in \u001b[0;36mpandas._libs.index.IndexEngine.get_loc\u001b[1;34m()\u001b[0m\n",
      "\u001b[1;32mpandas\\_libs\\hashtable_class_helper.pxi\u001b[0m in \u001b[0;36mpandas._libs.hashtable.PyObjectHashTable.get_item\u001b[1;34m()\u001b[0m\n",
      "\u001b[1;32mpandas\\_libs\\hashtable_class_helper.pxi\u001b[0m in \u001b[0;36mpandas._libs.hashtable.PyObjectHashTable.get_item\u001b[1;34m()\u001b[0m\n",
      "\u001b[1;31mKeyError\u001b[0m: 'per_school_capita'"
     ]
    }
   ],
   "source": [
    "lga_student_budget_df= pd.DataFrame(lga_student_budget_df [\"per_school_capita\"])\n",
    "lga_student_budget_df [\"per_school_capita\"] = budget_sort_df[\"Total School Budget\"]/students_renamed_df[\"Total Students\"]\n",
    "\n",
    "\n",
    "per_student_budget_df = lga_student_budget_df.rename(columns ={\"per_school_capita\":\"Per Student Budget\"})\n",
    "\n",
    "#per_student_budget_df.loc[:,\"Per Student Budget\"] = per_student_budget_df[\"Per Student Budget\"].astype(float).map ('${:,.2f}'.format)"
   ]
  },
  {
   "cell_type": "code",
   "execution_count": null,
   "metadata": {},
   "outputs": [],
   "source": [
    "average_maths_reading = school_summary_budget_df[[\"maths_score\", \"reading_score\"]].mean()\n",
    "average_maths_reading_df = pd.DataFrame(average_maths_reading).rename(columns = {\"maths_score\":\"Average Maths Score\", \"reading_score\": \"Average Reading Score\"})\n",
    "average_maths_reading_df.index.name = None\n"
   ]
  },
  {
   "cell_type": "code",
   "execution_count": null,
   "metadata": {},
   "outputs": [],
   "source": [
    "#Calculate % Passing Math and % Passing Reading\n",
    "passing_math_lga = school_data_complete_df.loc[school_data_complete_df[\"maths_score\"]>=50, [\"school_name\",\"maths_score\"]]\n",
    "percentage_passing_math_lga = round(((passing_math_lga[\"school_name\"].value_counts())/students_renamed_df[\"Total Students\"])*100,6)\n",
    "percentage_passing_math_lga = pd.DataFrame(percentage_passing_math_lga).rename (columns = {0: \"% Passing Maths\"})\n",
    "#percentage_passing_math_lga\n",
    "\n",
    "passing_reading_lga = school_data_complete_df.loc[school_data_complete_df[\"reading_score\"]>=50, [\"school_name\",\"reading_score\"]]\n",
    "percentage_passing_reading_lga = round(((passing_reading_lga[\"school_name\"].value_counts())/students_renamed_df[\"Total Students\"])*100,6)\n",
    "percentage_passing_reading_lga = pd.DataFrame(percentage_passing_reading_lga).rename (columns = {0: \"% Passing Reading\"})\n",
    "#percentage_passing_reading_lga"
   ]
  },
  {
   "cell_type": "code",
   "execution_count": null,
   "metadata": {},
   "outputs": [],
   "source": [
    "passing_reading_maths_lga = school_data_complete_df.loc[(school_data_complete_df[\"maths_score\"]>=50) & (school_data_complete_df[\"reading_score\"]>=50), [\"school_name\",\"maths_score\"]]\n",
    "percentage_passing_reading_maths_lga = round(((passing_reading_maths_lga[\"school_name\"].value_counts())/students_renamed_df[\"Total Students\"])*100,6)\n",
    "percentage_passing_reading_maths_lga = pd.DataFrame(percentage_passing_reading_maths_lga).rename (columns = {0: \"% Overall Passing\"})\n"
   ]
  },
  {
   "cell_type": "code",
   "execution_count": null,
   "metadata": {},
   "outputs": [],
   "source": [
    "#Formating the data into currency value\n",
    "budget_sort_df.loc[:,\"Total School Budget\"] = budget_sort_df[\"Total School Budget\"].astype(float).map ('${:,.2f}'.format)\n",
    "\n",
    "\n",
    "#per_student_budget_df.loc[:,\"Per Student Budget\"] = per_student_budget_df[\"Per Student Budget\"].astype(float).map ('${:,.2f}'.format)\n",
    "\n",
    "#Combinding all the DataFrames into one summary DataFrame for LGA\n",
    "lga_summary_df = budget_sort_df.join (students_renamed_df).join(per_student_budget_df).join(average_maths_reading_df).join(percentage_passing_math_lga).join(percentage_passing_reading_lga).join(percentage_passing_reading_maths_lga )\n",
    "\n",
    "#Re-arrange the columns as per question required\n",
    "rearrange_lga_summary_df = lga_summary_df[[\"School Type\", \"Total Students\", \"Total School Budget\", \"Per Student Budget\", \"Average Maths Score\", \"Average Reading Score\", \"% Passing Maths\", \"% Passing Reading\", \"% Overall Passing\"]]\n",
    "\n",
    "rearrange_lga_summary_df\n"
   ]
  },
  {
   "cell_type": "markdown",
   "metadata": {},
   "source": [
    "Top Performing Schools (By % Overall Passing)"
   ]
  },
  {
   "cell_type": "code",
   "execution_count": null,
   "metadata": {},
   "outputs": [],
   "source": [
    "#Using sort function with the setting ascending to False to sort from top to lowest.\n",
    "\n",
    "top_performing_schools = rearrange_lga_summary_df.sort_values('% Overall Passing', ascending= False)\n",
    "top_performing_schools.head(5)"
   ]
  },
  {
   "cell_type": "code",
   "execution_count": null,
   "metadata": {},
   "outputs": [],
   "source": [
    "#Using sort function with the setting ascending to True to sort from lowest to highest.\n",
    "lowest_performing_schools = rearrange_lga_summary_df.sort_values('% Overall Passing')\n",
    "lowest_performing_schools.head(5)"
   ]
  },
  {
   "cell_type": "markdown",
   "metadata": {},
   "source": [
    "Maths Scores by Year"
   ]
  },
  {
   "cell_type": "code",
   "execution_count": null,
   "metadata": {},
   "outputs": [],
   "source": [
    "#Year 9\n",
    "#Using loc function to filter out the specific year required, then using groupby to calculate the average\n",
    "year_9_df= school_data_complete_df.loc[(school_data_complete_df[\"year\"]==9), :]    \n",
    "year_9_df = year_9_df.groupby([\"school_name\"]).mean()\n",
    "rename_year_9_math_df = year_9_df.rename(columns = {\"maths_score\": \"Year 9\"})\n",
    "\n",
    "#Drop off all irrelevant columns in the table\n",
    "year_9_math = rename_year_9_math_df[[\"Year 9\"]]\n",
    "\n",
    "\n",
    "#Year 10\n",
    "year_10_df= school_data_complete_df.loc[(school_data_complete_df[\"year\"]==10), :]    \n",
    "year_10_df = year_10_df.groupby([\"school_name\"]).mean()\n",
    "rename_year_10_math_df = year_10_df.rename(columns = {\"maths_score\": \"Year 10\"})\n",
    "\n",
    "#Drop off all irrelevant columns in the table\n",
    "year_10_math = rename_year_10_math_df[[\"Year 10\"]]\n",
    "\n",
    "\n",
    "#Year 11\n",
    "year_11_df= school_data_complete_df.loc[(school_data_complete_df[\"year\"]==11), :]    \n",
    "year_11_df = year_11_df.groupby([\"school_name\"]).mean()\n",
    "rename_year_11_math_df = year_11_df.rename(columns = {\"maths_score\": \"Year 11\"})\n",
    "\n",
    "#Drop off all irrelevant columns in the table\n",
    "year_11_math = rename_year_11_math_df[[\"Year 11\"]]\n",
    "\n",
    "\n",
    "#Year 12\n",
    "year_12_df= school_data_complete_df.loc[(school_data_complete_df[\"year\"]==12), :]    \n",
    "year_12_df = year_12_df.groupby([\"school_name\"]).mean()\n",
    "rename_year_12_math_df = year_12_df.rename(columns = {\"maths_score\": \"Year 12\"})\n",
    "\n",
    "#Drop off all irrelevant columns in the table\n",
    "year_12_math = rename_year_12_math_df[[\"Year 12\"]]\n",
    "\n",
    "\n",
    "#join all dataframe together to represent the Maths Scores by Year for all schools within LGA\n",
    "maths_score_by_year = year_9_math.join(year_10_math).join(year_11_math).join(year_12_math)\n",
    "maths_score_by_year.index.name = None\n",
    "maths_score_by_year"
   ]
  },
  {
   "cell_type": "markdown",
   "metadata": {},
   "source": [
    "Reading Score by year"
   ]
  },
  {
   "cell_type": "code",
   "execution_count": null,
   "metadata": {},
   "outputs": [],
   "source": [
    "#Year 9:\n",
    "#Using the dataseries above (in Math Score by year) to prevent repeating the commands\n",
    "rename_year_9_reading_df = year_9_df.rename(columns = {\"reading_score\": \"Year 9\"})\n",
    "#Drop off all irrelevant columns in the table\n",
    "year_9_reading = rename_year_9_reading_df[[\"Year 9\"]]\n",
    "\n",
    "\n",
    "#Year 10:\n",
    "rename_year_10_reading_df = year_10_df.rename(columns = {\"reading_score\": \"Year 10\"})\n",
    "#Drop off all irrelevant columns in the table\n",
    "year_10_reading = rename_year_10_reading_df[[\"Year 10\"]]\n",
    "\n",
    "\n",
    "#Year 11:\n",
    "rename_year_11_reading_df = year_11_df.rename(columns = {\"reading_score\": \"Year 11\"})\n",
    "#Drop off all irrelevant columns in the table\n",
    "year_11_reading = rename_year_11_reading_df[[\"Year 11\"]]\n",
    "\n",
    "\n",
    "#Year 12:\n",
    "rename_year_12_reading_df = year_12_df.rename(columns = {\"reading_score\": \"Year 12\"})\n",
    "#Drop off all irrelevant columns in the table\n",
    "year_12_reading = rename_year_12_reading_df[[\"Year 12\"]]\n",
    "\n",
    "#join all dataframe together to represent the Reading Scores by Year for all schools within LGA\n",
    "reading_score_by_year = year_9_reading.join(year_10_reading).join(year_11_reading).join(year_12_reading)\n",
    "reading_score_by_year.index.name = None\n",
    "reading_score_by_year\n"
   ]
  },
  {
   "cell_type": "markdown",
   "metadata": {},
   "source": [
    "Scores by School Spending"
   ]
  },
  {
   "cell_type": "code",
   "execution_count": null,
   "metadata": {},
   "outputs": [],
   "source": [
    "#Create bins in which to place values based upon spending ranges (per student)\n",
    "bins = [0, 584.99, 629.99, 644.99, 680]\n",
    "\n",
    "#create labels for these bins\n",
    "groups_labels = [\"< $585\", \"$585 - 630\", \"$630 - 645\", \"$645 - 680\"]\n",
    "\n",
    "\n",
    "rearrange_lga_summary_df[\"Spending Ranges (Per Student)\"] = pd.cut(rearrange_lga_summary_df[\"Per Student Budget\"], bins, labels = groups_labels)\n",
    "\n",
    "#spending_range_group = rearrange_lga_summary_df.groupby[\"Spending Ranges (Per Student)\"]\n",
    "\n",
    "#spending_range = spending_range_group[[\"Average Maths Score\", \"Average Reading Score\", \"% Passing Maths\", \"% Passing Reading\", \"% Overall Passing\"]].mean()\n",
    "spending_range\n",
    "\n",
    "\n",
    "#rearrange_lga_summary1_df.set_index(\"Spending Ranges (Per Student)\", inplace=True)\n",
    "#rearrange_lga_summary_df[\"Spending Ranges (Per Student)\"].unique()"
   ]
  }
 ],
 "metadata": {
  "kernelspec": {
   "display_name": "Python 3.7.7 ('PythonData')",
   "language": "python",
   "name": "python3"
  },
  "language_info": {
   "codemirror_mode": {
    "name": "ipython",
    "version": 3
   },
   "file_extension": ".py",
   "mimetype": "text/x-python",
   "name": "python",
   "nbconvert_exporter": "python",
   "pygments_lexer": "ipython3",
   "version": "3.7.7"
  },
  "orig_nbformat": 4,
  "vscode": {
   "interpreter": {
    "hash": "7b04545d47c7e2738fd342f4668feff05623af388be79fa657245cc082efc99d"
   }
  }
 },
 "nbformat": 4,
 "nbformat_minor": 2
}
